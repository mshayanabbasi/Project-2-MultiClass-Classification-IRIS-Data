{
  "nbformat": 4,
  "nbformat_minor": 0,
  "metadata": {
    "colab": {
      "name": "MultiClass Classification.ipynb",
      "version": "0.3.2",
      "views": {},
      "default_view": {},
      "provenance": []
    },
    "kernelspec": {
      "name": "python3",
      "display_name": "Python 3"
    },
    "accelerator": "GPU"
  },
  "cells": [
    {
      "metadata": {
        "id": "McUZONR6JaoU",
        "colab_type": "code",
        "colab": {
          "autoexec": {
            "startup": false,
            "wait_interval": 0
          },
          "base_uri": "https://localhost:8080/",
          "height": 34
        },
        "outputId": "7d6d5ab4-2d27-42d4-fd2e-bbe137b320dc",
        "executionInfo": {
          "status": "ok",
          "timestamp": 1532534089832,
          "user_tz": -300,
          "elapsed": 9207,
          "user": {
            "displayName": "Muhammad Shayan",
            "photoUrl": "//lh6.googleusercontent.com/-OQHqCiutbHI/AAAAAAAAAAI/AAAAAAAAAmM/a_Irg7ovtCk/s50-c-k-no/photo.jpg",
            "userId": "117658589879094178010"
          }
        }
      },
      "cell_type": "code",
      "source": [
        "import numpy\n",
        "import pandas\n",
        "from keras.models import Sequential\n",
        "from keras.layers import Dense\n",
        "from keras.wrappers.scikit_learn import KerasClassifier\n",
        "from keras.utils import np_utils\n",
        "from sklearn.model_selection import cross_val_score\n",
        "from sklearn.model_selection import KFold\n",
        "from sklearn.preprocessing import LabelEncoder\n",
        "from sklearn.pipeline import Pipeline\n"
      ],
      "execution_count": 1,
      "outputs": [
        {
          "output_type": "stream",
          "text": [
            "Using TensorFlow backend.\n"
          ],
          "name": "stderr"
        }
      ]
    },
    {
      "metadata": {
        "id": "LIj9c02mJnbd",
        "colab_type": "code",
        "colab": {
          "autoexec": {
            "startup": false,
            "wait_interval": 0
          }
        }
      },
      "cell_type": "code",
      "source": [
        "# fix random seed for reproducibility\n",
        "seed = 7\n",
        "numpy.random.seed(seed)"
      ],
      "execution_count": 0,
      "outputs": []
    },
    {
      "metadata": {
        "id": "dvMO_q8nJtPg",
        "colab_type": "code",
        "colab": {
          "autoexec": {
            "startup": false,
            "wait_interval": 0
          },
          "resources": {
            "http://localhost:8080/nbextensions/google.colab/files.js": {
              "data": "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",
              "ok": true,
              "headers": [
                [
                  "content-type",
                  "application/javascript"
                ]
              ],
              "status": 200,
              "status_text": ""
            }
          },
          "base_uri": "https://localhost:8080/",
          "height": 73
        },
        "outputId": "5e1ec9a6-1cb2-4c21-8e56-9ee1d31fcd9d",
        "executionInfo": {
          "status": "ok",
          "timestamp": 1532534139762,
          "user_tz": -300,
          "elapsed": 12707,
          "user": {
            "displayName": "Muhammad Shayan",
            "photoUrl": "//lh6.googleusercontent.com/-OQHqCiutbHI/AAAAAAAAAAI/AAAAAAAAAmM/a_Irg7ovtCk/s50-c-k-no/photo.jpg",
            "userId": "117658589879094178010"
          }
        }
      },
      "cell_type": "code",
      "source": [
        "from google.colab import files\n",
        "uploaded=files.upload()"
      ],
      "execution_count": 3,
      "outputs": [
        {
          "output_type": "display_data",
          "data": {
            "text/html": [
              "\n",
              "     <input type=\"file\" id=\"files-e837e04f-77ac-41f5-bdfc-93bc961c8cf5\" name=\"files[]\" multiple disabled />\n",
              "     <output id=\"result-e837e04f-77ac-41f5-bdfc-93bc961c8cf5\">\n",
              "      Upload widget is only available when the cell has been executed in the\n",
              "      current browser session. Please rerun this cell to enable.\n",
              "      </output>\n",
              "      <script src=\"/nbextensions/google.colab/files.js\"></script> "
            ],
            "text/plain": [
              "<IPython.core.display.HTML object>"
            ]
          },
          "metadata": {
            "tags": []
          }
        },
        {
          "output_type": "stream",
          "text": [
            "Saving iris.csv to iris.csv\n"
          ],
          "name": "stdout"
        }
      ]
    },
    {
      "metadata": {
        "id": "ayqMxwGrJy3R",
        "colab_type": "code",
        "colab": {
          "autoexec": {
            "startup": false,
            "wait_interval": 0
          }
        }
      },
      "cell_type": "code",
      "source": [
        "df = pandas.read_csv(\"iris.csv\")"
      ],
      "execution_count": 0,
      "outputs": []
    },
    {
      "metadata": {
        "id": "pPssIdVDJ1pA",
        "colab_type": "code",
        "colab": {
          "autoexec": {
            "startup": false,
            "wait_interval": 0
          },
          "base_uri": "https://localhost:8080/",
          "height": 195
        },
        "outputId": "3513fe17-f943-4c00-a319-4fc9f7881f17",
        "executionInfo": {
          "status": "ok",
          "timestamp": 1532534184817,
          "user_tz": -300,
          "elapsed": 1040,
          "user": {
            "displayName": "Muhammad Shayan",
            "photoUrl": "//lh6.googleusercontent.com/-OQHqCiutbHI/AAAAAAAAAAI/AAAAAAAAAmM/a_Irg7ovtCk/s50-c-k-no/photo.jpg",
            "userId": "117658589879094178010"
          }
        }
      },
      "cell_type": "code",
      "source": [
        "df.head()"
      ],
      "execution_count": 6,
      "outputs": [
        {
          "output_type": "execute_result",
          "data": {
            "text/html": [
              "<div>\n",
              "<style scoped>\n",
              "    .dataframe tbody tr th:only-of-type {\n",
              "        vertical-align: middle;\n",
              "    }\n",
              "\n",
              "    .dataframe tbody tr th {\n",
              "        vertical-align: top;\n",
              "    }\n",
              "\n",
              "    .dataframe thead th {\n",
              "        text-align: right;\n",
              "    }\n",
              "</style>\n",
              "<table border=\"1\" class=\"dataframe\">\n",
              "  <thead>\n",
              "    <tr style=\"text-align: right;\">\n",
              "      <th></th>\n",
              "      <th>5.1</th>\n",
              "      <th>3.5</th>\n",
              "      <th>1.4</th>\n",
              "      <th>0.2</th>\n",
              "      <th>Iris-setosa</th>\n",
              "    </tr>\n",
              "  </thead>\n",
              "  <tbody>\n",
              "    <tr>\n",
              "      <th>0</th>\n",
              "      <td>4.9</td>\n",
              "      <td>3.0</td>\n",
              "      <td>1.4</td>\n",
              "      <td>0.2</td>\n",
              "      <td>Iris-setosa</td>\n",
              "    </tr>\n",
              "    <tr>\n",
              "      <th>1</th>\n",
              "      <td>4.7</td>\n",
              "      <td>3.2</td>\n",
              "      <td>1.3</td>\n",
              "      <td>0.2</td>\n",
              "      <td>Iris-setosa</td>\n",
              "    </tr>\n",
              "    <tr>\n",
              "      <th>2</th>\n",
              "      <td>4.6</td>\n",
              "      <td>3.1</td>\n",
              "      <td>1.5</td>\n",
              "      <td>0.2</td>\n",
              "      <td>Iris-setosa</td>\n",
              "    </tr>\n",
              "    <tr>\n",
              "      <th>3</th>\n",
              "      <td>5.0</td>\n",
              "      <td>3.6</td>\n",
              "      <td>1.4</td>\n",
              "      <td>0.2</td>\n",
              "      <td>Iris-setosa</td>\n",
              "    </tr>\n",
              "    <tr>\n",
              "      <th>4</th>\n",
              "      <td>5.4</td>\n",
              "      <td>3.9</td>\n",
              "      <td>1.7</td>\n",
              "      <td>0.4</td>\n",
              "      <td>Iris-setosa</td>\n",
              "    </tr>\n",
              "  </tbody>\n",
              "</table>\n",
              "</div>"
            ],
            "text/plain": [
              "   5.1  3.5  1.4  0.2  Iris-setosa\n",
              "0  4.9  3.0  1.4  0.2  Iris-setosa\n",
              "1  4.7  3.2  1.3  0.2  Iris-setosa\n",
              "2  4.6  3.1  1.5  0.2  Iris-setosa\n",
              "3  5.0  3.6  1.4  0.2  Iris-setosa\n",
              "4  5.4  3.9  1.7  0.4  Iris-setosa"
            ]
          },
          "metadata": {
            "tags": []
          },
          "execution_count": 6
        }
      ]
    },
    {
      "metadata": {
        "id": "ncZ9YTUYJ4-Y",
        "colab_type": "code",
        "colab": {
          "autoexec": {
            "startup": false,
            "wait_interval": 0
          },
          "base_uri": "https://localhost:8080/",
          "height": 284
        },
        "outputId": "16e55661-68e6-40ae-be7c-0ed7256f58a2",
        "executionInfo": {
          "status": "ok",
          "timestamp": 1532534201805,
          "user_tz": -300,
          "elapsed": 1027,
          "user": {
            "displayName": "Muhammad Shayan",
            "photoUrl": "//lh6.googleusercontent.com/-OQHqCiutbHI/AAAAAAAAAAI/AAAAAAAAAmM/a_Irg7ovtCk/s50-c-k-no/photo.jpg",
            "userId": "117658589879094178010"
          }
        }
      },
      "cell_type": "code",
      "source": [
        "df.describe()"
      ],
      "execution_count": 7,
      "outputs": [
        {
          "output_type": "execute_result",
          "data": {
            "text/html": [
              "<div>\n",
              "<style scoped>\n",
              "    .dataframe tbody tr th:only-of-type {\n",
              "        vertical-align: middle;\n",
              "    }\n",
              "\n",
              "    .dataframe tbody tr th {\n",
              "        vertical-align: top;\n",
              "    }\n",
              "\n",
              "    .dataframe thead th {\n",
              "        text-align: right;\n",
              "    }\n",
              "</style>\n",
              "<table border=\"1\" class=\"dataframe\">\n",
              "  <thead>\n",
              "    <tr style=\"text-align: right;\">\n",
              "      <th></th>\n",
              "      <th>5.1</th>\n",
              "      <th>3.5</th>\n",
              "      <th>1.4</th>\n",
              "      <th>0.2</th>\n",
              "    </tr>\n",
              "  </thead>\n",
              "  <tbody>\n",
              "    <tr>\n",
              "      <th>count</th>\n",
              "      <td>149.000000</td>\n",
              "      <td>149.000000</td>\n",
              "      <td>149.000000</td>\n",
              "      <td>149.000000</td>\n",
              "    </tr>\n",
              "    <tr>\n",
              "      <th>mean</th>\n",
              "      <td>5.848322</td>\n",
              "      <td>3.051007</td>\n",
              "      <td>3.774497</td>\n",
              "      <td>1.205369</td>\n",
              "    </tr>\n",
              "    <tr>\n",
              "      <th>std</th>\n",
              "      <td>0.828594</td>\n",
              "      <td>0.433499</td>\n",
              "      <td>1.759651</td>\n",
              "      <td>0.761292</td>\n",
              "    </tr>\n",
              "    <tr>\n",
              "      <th>min</th>\n",
              "      <td>4.300000</td>\n",
              "      <td>2.000000</td>\n",
              "      <td>1.000000</td>\n",
              "      <td>0.100000</td>\n",
              "    </tr>\n",
              "    <tr>\n",
              "      <th>25%</th>\n",
              "      <td>5.100000</td>\n",
              "      <td>2.800000</td>\n",
              "      <td>1.600000</td>\n",
              "      <td>0.300000</td>\n",
              "    </tr>\n",
              "    <tr>\n",
              "      <th>50%</th>\n",
              "      <td>5.800000</td>\n",
              "      <td>3.000000</td>\n",
              "      <td>4.400000</td>\n",
              "      <td>1.300000</td>\n",
              "    </tr>\n",
              "    <tr>\n",
              "      <th>75%</th>\n",
              "      <td>6.400000</td>\n",
              "      <td>3.300000</td>\n",
              "      <td>5.100000</td>\n",
              "      <td>1.800000</td>\n",
              "    </tr>\n",
              "    <tr>\n",
              "      <th>max</th>\n",
              "      <td>7.900000</td>\n",
              "      <td>4.400000</td>\n",
              "      <td>6.900000</td>\n",
              "      <td>2.500000</td>\n",
              "    </tr>\n",
              "  </tbody>\n",
              "</table>\n",
              "</div>"
            ],
            "text/plain": [
              "              5.1         3.5         1.4         0.2\n",
              "count  149.000000  149.000000  149.000000  149.000000\n",
              "mean     5.848322    3.051007    3.774497    1.205369\n",
              "std      0.828594    0.433499    1.759651    0.761292\n",
              "min      4.300000    2.000000    1.000000    0.100000\n",
              "25%      5.100000    2.800000    1.600000    0.300000\n",
              "50%      5.800000    3.000000    4.400000    1.300000\n",
              "75%      6.400000    3.300000    5.100000    1.800000\n",
              "max      7.900000    4.400000    6.900000    2.500000"
            ]
          },
          "metadata": {
            "tags": []
          },
          "execution_count": 7
        }
      ]
    },
    {
      "metadata": {
        "id": "w2l1YGrsJ5Bv",
        "colab_type": "code",
        "colab": {
          "autoexec": {
            "startup": false,
            "wait_interval": 0
          },
          "base_uri": "https://localhost:8080/",
          "height": 185
        },
        "outputId": "f023b26a-31c5-4773-b50c-151713592523",
        "executionInfo": {
          "status": "ok",
          "timestamp": 1532534210240,
          "user_tz": -300,
          "elapsed": 1038,
          "user": {
            "displayName": "Muhammad Shayan",
            "photoUrl": "//lh6.googleusercontent.com/-OQHqCiutbHI/AAAAAAAAAAI/AAAAAAAAAmM/a_Irg7ovtCk/s50-c-k-no/photo.jpg",
            "userId": "117658589879094178010"
          }
        }
      },
      "cell_type": "code",
      "source": [
        "df.info()"
      ],
      "execution_count": 8,
      "outputs": [
        {
          "output_type": "stream",
          "text": [
            "<class 'pandas.core.frame.DataFrame'>\n",
            "RangeIndex: 149 entries, 0 to 148\n",
            "Data columns (total 5 columns):\n",
            "5.1            149 non-null float64\n",
            "3.5            149 non-null float64\n",
            "1.4            149 non-null float64\n",
            "0.2            149 non-null float64\n",
            "Iris-setosa    149 non-null object\n",
            "dtypes: float64(4), object(1)\n",
            "memory usage: 5.9+ KB\n"
          ],
          "name": "stdout"
        }
      ]
    },
    {
      "metadata": {
        "id": "sU0yICB2J5Gj",
        "colab_type": "code",
        "colab": {
          "autoexec": {
            "startup": false,
            "wait_interval": 0
          }
        }
      },
      "cell_type": "code",
      "source": [
        "data = df.values"
      ],
      "execution_count": 0,
      "outputs": []
    },
    {
      "metadata": {
        "id": "CRiZ0OeTJ5Lv",
        "colab_type": "code",
        "colab": {
          "autoexec": {
            "startup": false,
            "wait_interval": 0
          }
        }
      },
      "cell_type": "code",
      "source": [
        "X = data[:,0:4].astype(float)\n",
        "Y = data[:,4]"
      ],
      "execution_count": 0,
      "outputs": []
    },
    {
      "metadata": {
        "id": "1A6ujrCyJ5T6",
        "colab_type": "code",
        "colab": {
          "autoexec": {
            "startup": false,
            "wait_interval": 0
          },
          "base_uri": "https://localhost:8080/",
          "height": 2520
        },
        "outputId": "d87ee820-399a-4da6-9302-5516e4060811",
        "executionInfo": {
          "status": "ok",
          "timestamp": 1532534258156,
          "user_tz": -300,
          "elapsed": 964,
          "user": {
            "displayName": "Muhammad Shayan",
            "photoUrl": "//lh6.googleusercontent.com/-OQHqCiutbHI/AAAAAAAAAAI/AAAAAAAAAmM/a_Irg7ovtCk/s50-c-k-no/photo.jpg",
            "userId": "117658589879094178010"
          }
        }
      },
      "cell_type": "code",
      "source": [
        "X"
      ],
      "execution_count": 11,
      "outputs": [
        {
          "output_type": "execute_result",
          "data": {
            "text/plain": [
              "array([[4.9, 3. , 1.4, 0.2],\n",
              "       [4.7, 3.2, 1.3, 0.2],\n",
              "       [4.6, 3.1, 1.5, 0.2],\n",
              "       [5. , 3.6, 1.4, 0.2],\n",
              "       [5.4, 3.9, 1.7, 0.4],\n",
              "       [4.6, 3.4, 1.4, 0.3],\n",
              "       [5. , 3.4, 1.5, 0.2],\n",
              "       [4.4, 2.9, 1.4, 0.2],\n",
              "       [4.9, 3.1, 1.5, 0.1],\n",
              "       [5.4, 3.7, 1.5, 0.2],\n",
              "       [4.8, 3.4, 1.6, 0.2],\n",
              "       [4.8, 3. , 1.4, 0.1],\n",
              "       [4.3, 3. , 1.1, 0.1],\n",
              "       [5.8, 4. , 1.2, 0.2],\n",
              "       [5.7, 4.4, 1.5, 0.4],\n",
              "       [5.4, 3.9, 1.3, 0.4],\n",
              "       [5.1, 3.5, 1.4, 0.3],\n",
              "       [5.7, 3.8, 1.7, 0.3],\n",
              "       [5.1, 3.8, 1.5, 0.3],\n",
              "       [5.4, 3.4, 1.7, 0.2],\n",
              "       [5.1, 3.7, 1.5, 0.4],\n",
              "       [4.6, 3.6, 1. , 0.2],\n",
              "       [5.1, 3.3, 1.7, 0.5],\n",
              "       [4.8, 3.4, 1.9, 0.2],\n",
              "       [5. , 3. , 1.6, 0.2],\n",
              "       [5. , 3.4, 1.6, 0.4],\n",
              "       [5.2, 3.5, 1.5, 0.2],\n",
              "       [5.2, 3.4, 1.4, 0.2],\n",
              "       [4.7, 3.2, 1.6, 0.2],\n",
              "       [4.8, 3.1, 1.6, 0.2],\n",
              "       [5.4, 3.4, 1.5, 0.4],\n",
              "       [5.2, 4.1, 1.5, 0.1],\n",
              "       [5.5, 4.2, 1.4, 0.2],\n",
              "       [4.9, 3.1, 1.5, 0.1],\n",
              "       [5. , 3.2, 1.2, 0.2],\n",
              "       [5.5, 3.5, 1.3, 0.2],\n",
              "       [4.9, 3.1, 1.5, 0.1],\n",
              "       [4.4, 3. , 1.3, 0.2],\n",
              "       [5.1, 3.4, 1.5, 0.2],\n",
              "       [5. , 3.5, 1.3, 0.3],\n",
              "       [4.5, 2.3, 1.3, 0.3],\n",
              "       [4.4, 3.2, 1.3, 0.2],\n",
              "       [5. , 3.5, 1.6, 0.6],\n",
              "       [5.1, 3.8, 1.9, 0.4],\n",
              "       [4.8, 3. , 1.4, 0.3],\n",
              "       [5.1, 3.8, 1.6, 0.2],\n",
              "       [4.6, 3.2, 1.4, 0.2],\n",
              "       [5.3, 3.7, 1.5, 0.2],\n",
              "       [5. , 3.3, 1.4, 0.2],\n",
              "       [7. , 3.2, 4.7, 1.4],\n",
              "       [6.4, 3.2, 4.5, 1.5],\n",
              "       [6.9, 3.1, 4.9, 1.5],\n",
              "       [5.5, 2.3, 4. , 1.3],\n",
              "       [6.5, 2.8, 4.6, 1.5],\n",
              "       [5.7, 2.8, 4.5, 1.3],\n",
              "       [6.3, 3.3, 4.7, 1.6],\n",
              "       [4.9, 2.4, 3.3, 1. ],\n",
              "       [6.6, 2.9, 4.6, 1.3],\n",
              "       [5.2, 2.7, 3.9, 1.4],\n",
              "       [5. , 2. , 3.5, 1. ],\n",
              "       [5.9, 3. , 4.2, 1.5],\n",
              "       [6. , 2.2, 4. , 1. ],\n",
              "       [6.1, 2.9, 4.7, 1.4],\n",
              "       [5.6, 2.9, 3.6, 1.3],\n",
              "       [6.7, 3.1, 4.4, 1.4],\n",
              "       [5.6, 3. , 4.5, 1.5],\n",
              "       [5.8, 2.7, 4.1, 1. ],\n",
              "       [6.2, 2.2, 4.5, 1.5],\n",
              "       [5.6, 2.5, 3.9, 1.1],\n",
              "       [5.9, 3.2, 4.8, 1.8],\n",
              "       [6.1, 2.8, 4. , 1.3],\n",
              "       [6.3, 2.5, 4.9, 1.5],\n",
              "       [6.1, 2.8, 4.7, 1.2],\n",
              "       [6.4, 2.9, 4.3, 1.3],\n",
              "       [6.6, 3. , 4.4, 1.4],\n",
              "       [6.8, 2.8, 4.8, 1.4],\n",
              "       [6.7, 3. , 5. , 1.7],\n",
              "       [6. , 2.9, 4.5, 1.5],\n",
              "       [5.7, 2.6, 3.5, 1. ],\n",
              "       [5.5, 2.4, 3.8, 1.1],\n",
              "       [5.5, 2.4, 3.7, 1. ],\n",
              "       [5.8, 2.7, 3.9, 1.2],\n",
              "       [6. , 2.7, 5.1, 1.6],\n",
              "       [5.4, 3. , 4.5, 1.5],\n",
              "       [6. , 3.4, 4.5, 1.6],\n",
              "       [6.7, 3.1, 4.7, 1.5],\n",
              "       [6.3, 2.3, 4.4, 1.3],\n",
              "       [5.6, 3. , 4.1, 1.3],\n",
              "       [5.5, 2.5, 4. , 1.3],\n",
              "       [5.5, 2.6, 4.4, 1.2],\n",
              "       [6.1, 3. , 4.6, 1.4],\n",
              "       [5.8, 2.6, 4. , 1.2],\n",
              "       [5. , 2.3, 3.3, 1. ],\n",
              "       [5.6, 2.7, 4.2, 1.3],\n",
              "       [5.7, 3. , 4.2, 1.2],\n",
              "       [5.7, 2.9, 4.2, 1.3],\n",
              "       [6.2, 2.9, 4.3, 1.3],\n",
              "       [5.1, 2.5, 3. , 1.1],\n",
              "       [5.7, 2.8, 4.1, 1.3],\n",
              "       [6.3, 3.3, 6. , 2.5],\n",
              "       [5.8, 2.7, 5.1, 1.9],\n",
              "       [7.1, 3. , 5.9, 2.1],\n",
              "       [6.3, 2.9, 5.6, 1.8],\n",
              "       [6.5, 3. , 5.8, 2.2],\n",
              "       [7.6, 3. , 6.6, 2.1],\n",
              "       [4.9, 2.5, 4.5, 1.7],\n",
              "       [7.3, 2.9, 6.3, 1.8],\n",
              "       [6.7, 2.5, 5.8, 1.8],\n",
              "       [7.2, 3.6, 6.1, 2.5],\n",
              "       [6.5, 3.2, 5.1, 2. ],\n",
              "       [6.4, 2.7, 5.3, 1.9],\n",
              "       [6.8, 3. , 5.5, 2.1],\n",
              "       [5.7, 2.5, 5. , 2. ],\n",
              "       [5.8, 2.8, 5.1, 2.4],\n",
              "       [6.4, 3.2, 5.3, 2.3],\n",
              "       [6.5, 3. , 5.5, 1.8],\n",
              "       [7.7, 3.8, 6.7, 2.2],\n",
              "       [7.7, 2.6, 6.9, 2.3],\n",
              "       [6. , 2.2, 5. , 1.5],\n",
              "       [6.9, 3.2, 5.7, 2.3],\n",
              "       [5.6, 2.8, 4.9, 2. ],\n",
              "       [7.7, 2.8, 6.7, 2. ],\n",
              "       [6.3, 2.7, 4.9, 1.8],\n",
              "       [6.7, 3.3, 5.7, 2.1],\n",
              "       [7.2, 3.2, 6. , 1.8],\n",
              "       [6.2, 2.8, 4.8, 1.8],\n",
              "       [6.1, 3. , 4.9, 1.8],\n",
              "       [6.4, 2.8, 5.6, 2.1],\n",
              "       [7.2, 3. , 5.8, 1.6],\n",
              "       [7.4, 2.8, 6.1, 1.9],\n",
              "       [7.9, 3.8, 6.4, 2. ],\n",
              "       [6.4, 2.8, 5.6, 2.2],\n",
              "       [6.3, 2.8, 5.1, 1.5],\n",
              "       [6.1, 2.6, 5.6, 1.4],\n",
              "       [7.7, 3. , 6.1, 2.3],\n",
              "       [6.3, 3.4, 5.6, 2.4],\n",
              "       [6.4, 3.1, 5.5, 1.8],\n",
              "       [6. , 3. , 4.8, 1.8],\n",
              "       [6.9, 3.1, 5.4, 2.1],\n",
              "       [6.7, 3.1, 5.6, 2.4],\n",
              "       [6.9, 3.1, 5.1, 2.3],\n",
              "       [5.8, 2.7, 5.1, 1.9],\n",
              "       [6.8, 3.2, 5.9, 2.3],\n",
              "       [6.7, 3.3, 5.7, 2.5],\n",
              "       [6.7, 3. , 5.2, 2.3],\n",
              "       [6.3, 2.5, 5. , 1.9],\n",
              "       [6.5, 3. , 5.2, 2. ],\n",
              "       [6.2, 3.4, 5.4, 2.3],\n",
              "       [5.9, 3. , 5.1, 1.8]])"
            ]
          },
          "metadata": {
            "tags": []
          },
          "execution_count": 11
        }
      ]
    },
    {
      "metadata": {
        "id": "gPSunYa9J5ZP",
        "colab_type": "code",
        "colab": {
          "autoexec": {
            "startup": false,
            "wait_interval": 0
          },
          "base_uri": "https://localhost:8080/",
          "height": 854
        },
        "outputId": "519e781b-34f3-4315-9883-04c7beae1de0",
        "executionInfo": {
          "status": "ok",
          "timestamp": 1532534269934,
          "user_tz": -300,
          "elapsed": 1318,
          "user": {
            "displayName": "Muhammad Shayan",
            "photoUrl": "//lh6.googleusercontent.com/-OQHqCiutbHI/AAAAAAAAAAI/AAAAAAAAAmM/a_Irg7ovtCk/s50-c-k-no/photo.jpg",
            "userId": "117658589879094178010"
          }
        }
      },
      "cell_type": "code",
      "source": [
        "Y"
      ],
      "execution_count": 12,
      "outputs": [
        {
          "output_type": "execute_result",
          "data": {
            "text/plain": [
              "array(['Iris-setosa', 'Iris-setosa', 'Iris-setosa', 'Iris-setosa',\n",
              "       'Iris-setosa', 'Iris-setosa', 'Iris-setosa', 'Iris-setosa',\n",
              "       'Iris-setosa', 'Iris-setosa', 'Iris-setosa', 'Iris-setosa',\n",
              "       'Iris-setosa', 'Iris-setosa', 'Iris-setosa', 'Iris-setosa',\n",
              "       'Iris-setosa', 'Iris-setosa', 'Iris-setosa', 'Iris-setosa',\n",
              "       'Iris-setosa', 'Iris-setosa', 'Iris-setosa', 'Iris-setosa',\n",
              "       'Iris-setosa', 'Iris-setosa', 'Iris-setosa', 'Iris-setosa',\n",
              "       'Iris-setosa', 'Iris-setosa', 'Iris-setosa', 'Iris-setosa',\n",
              "       'Iris-setosa', 'Iris-setosa', 'Iris-setosa', 'Iris-setosa',\n",
              "       'Iris-setosa', 'Iris-setosa', 'Iris-setosa', 'Iris-setosa',\n",
              "       'Iris-setosa', 'Iris-setosa', 'Iris-setosa', 'Iris-setosa',\n",
              "       'Iris-setosa', 'Iris-setosa', 'Iris-setosa', 'Iris-setosa',\n",
              "       'Iris-setosa', 'Iris-versicolor', 'Iris-versicolor',\n",
              "       'Iris-versicolor', 'Iris-versicolor', 'Iris-versicolor',\n",
              "       'Iris-versicolor', 'Iris-versicolor', 'Iris-versicolor',\n",
              "       'Iris-versicolor', 'Iris-versicolor', 'Iris-versicolor',\n",
              "       'Iris-versicolor', 'Iris-versicolor', 'Iris-versicolor',\n",
              "       'Iris-versicolor', 'Iris-versicolor', 'Iris-versicolor',\n",
              "       'Iris-versicolor', 'Iris-versicolor', 'Iris-versicolor',\n",
              "       'Iris-versicolor', 'Iris-versicolor', 'Iris-versicolor',\n",
              "       'Iris-versicolor', 'Iris-versicolor', 'Iris-versicolor',\n",
              "       'Iris-versicolor', 'Iris-versicolor', 'Iris-versicolor',\n",
              "       'Iris-versicolor', 'Iris-versicolor', 'Iris-versicolor',\n",
              "       'Iris-versicolor', 'Iris-versicolor', 'Iris-versicolor',\n",
              "       'Iris-versicolor', 'Iris-versicolor', 'Iris-versicolor',\n",
              "       'Iris-versicolor', 'Iris-versicolor', 'Iris-versicolor',\n",
              "       'Iris-versicolor', 'Iris-versicolor', 'Iris-versicolor',\n",
              "       'Iris-versicolor', 'Iris-versicolor', 'Iris-versicolor',\n",
              "       'Iris-versicolor', 'Iris-versicolor', 'Iris-versicolor',\n",
              "       'Iris-virginica', 'Iris-virginica', 'Iris-virginica',\n",
              "       'Iris-virginica', 'Iris-virginica', 'Iris-virginica',\n",
              "       'Iris-virginica', 'Iris-virginica', 'Iris-virginica',\n",
              "       'Iris-virginica', 'Iris-virginica', 'Iris-virginica',\n",
              "       'Iris-virginica', 'Iris-virginica', 'Iris-virginica',\n",
              "       'Iris-virginica', 'Iris-virginica', 'Iris-virginica',\n",
              "       'Iris-virginica', 'Iris-virginica', 'Iris-virginica',\n",
              "       'Iris-virginica', 'Iris-virginica', 'Iris-virginica',\n",
              "       'Iris-virginica', 'Iris-virginica', 'Iris-virginica',\n",
              "       'Iris-virginica', 'Iris-virginica', 'Iris-virginica',\n",
              "       'Iris-virginica', 'Iris-virginica', 'Iris-virginica',\n",
              "       'Iris-virginica', 'Iris-virginica', 'Iris-virginica',\n",
              "       'Iris-virginica', 'Iris-virginica', 'Iris-virginica',\n",
              "       'Iris-virginica', 'Iris-virginica', 'Iris-virginica',\n",
              "       'Iris-virginica', 'Iris-virginica', 'Iris-virginica',\n",
              "       'Iris-virginica', 'Iris-virginica', 'Iris-virginica',\n",
              "       'Iris-virginica', 'Iris-virginica'], dtype=object)"
            ]
          },
          "metadata": {
            "tags": []
          },
          "execution_count": 12
        }
      ]
    },
    {
      "metadata": {
        "id": "1iBs5nFvJ5go",
        "colab_type": "code",
        "colab": {
          "autoexec": {
            "startup": false,
            "wait_interval": 0
          }
        }
      },
      "cell_type": "code",
      "source": [
        "encoder = LabelEncoder()\n",
        "encoder.fit(Y)\n",
        "encoded_Y = encoder.transform(Y)\n",
        "# convert integers to dummy variables (i.e. one hot encoded)\n",
        "dummy_y = np_utils.to_categorical(encoded_Y)"
      ],
      "execution_count": 0,
      "outputs": []
    },
    {
      "metadata": {
        "id": "jk1cvF7JJ5n_",
        "colab_type": "code",
        "colab": {
          "autoexec": {
            "startup": false,
            "wait_interval": 0
          },
          "base_uri": "https://localhost:8080/",
          "height": 145
        },
        "outputId": "418efebb-f541-4366-e58c-af223eabb886",
        "executionInfo": {
          "status": "ok",
          "timestamp": 1532534316120,
          "user_tz": -300,
          "elapsed": 1083,
          "user": {
            "displayName": "Muhammad Shayan",
            "photoUrl": "//lh6.googleusercontent.com/-OQHqCiutbHI/AAAAAAAAAAI/AAAAAAAAAmM/a_Irg7ovtCk/s50-c-k-no/photo.jpg",
            "userId": "117658589879094178010"
          }
        }
      },
      "cell_type": "code",
      "source": [
        "encoded_Y"
      ],
      "execution_count": 14,
      "outputs": [
        {
          "output_type": "execute_result",
          "data": {
            "text/plain": [
              "array([0, 0, 0, 0, 0, 0, 0, 0, 0, 0, 0, 0, 0, 0, 0, 0, 0, 0, 0, 0, 0, 0,\n",
              "       0, 0, 0, 0, 0, 0, 0, 0, 0, 0, 0, 0, 0, 0, 0, 0, 0, 0, 0, 0, 0, 0,\n",
              "       0, 0, 0, 0, 0, 1, 1, 1, 1, 1, 1, 1, 1, 1, 1, 1, 1, 1, 1, 1, 1, 1,\n",
              "       1, 1, 1, 1, 1, 1, 1, 1, 1, 1, 1, 1, 1, 1, 1, 1, 1, 1, 1, 1, 1, 1,\n",
              "       1, 1, 1, 1, 1, 1, 1, 1, 1, 1, 1, 2, 2, 2, 2, 2, 2, 2, 2, 2, 2, 2,\n",
              "       2, 2, 2, 2, 2, 2, 2, 2, 2, 2, 2, 2, 2, 2, 2, 2, 2, 2, 2, 2, 2, 2,\n",
              "       2, 2, 2, 2, 2, 2, 2, 2, 2, 2, 2, 2, 2, 2, 2, 2, 2])"
            ]
          },
          "metadata": {
            "tags": []
          },
          "execution_count": 14
        }
      ]
    },
    {
      "metadata": {
        "id": "41SZtkTfJ5wF",
        "colab_type": "code",
        "colab": {
          "autoexec": {
            "startup": false,
            "wait_interval": 0
          },
          "base_uri": "https://localhost:8080/",
          "height": 2726
        },
        "outputId": "e3406c99-944e-46bd-a751-8fee05857473",
        "executionInfo": {
          "status": "ok",
          "timestamp": 1532534330889,
          "user_tz": -300,
          "elapsed": 1358,
          "user": {
            "displayName": "Muhammad Shayan",
            "photoUrl": "//lh6.googleusercontent.com/-OQHqCiutbHI/AAAAAAAAAAI/AAAAAAAAAmM/a_Irg7ovtCk/s50-c-k-no/photo.jpg",
            "userId": "117658589879094178010"
          }
        }
      },
      "cell_type": "code",
      "source": [
        "dummy_y"
      ],
      "execution_count": 15,
      "outputs": [
        {
          "output_type": "execute_result",
          "data": {
            "text/plain": [
              "array([[1., 0., 0.],\n",
              "       [1., 0., 0.],\n",
              "       [1., 0., 0.],\n",
              "       [1., 0., 0.],\n",
              "       [1., 0., 0.],\n",
              "       [1., 0., 0.],\n",
              "       [1., 0., 0.],\n",
              "       [1., 0., 0.],\n",
              "       [1., 0., 0.],\n",
              "       [1., 0., 0.],\n",
              "       [1., 0., 0.],\n",
              "       [1., 0., 0.],\n",
              "       [1., 0., 0.],\n",
              "       [1., 0., 0.],\n",
              "       [1., 0., 0.],\n",
              "       [1., 0., 0.],\n",
              "       [1., 0., 0.],\n",
              "       [1., 0., 0.],\n",
              "       [1., 0., 0.],\n",
              "       [1., 0., 0.],\n",
              "       [1., 0., 0.],\n",
              "       [1., 0., 0.],\n",
              "       [1., 0., 0.],\n",
              "       [1., 0., 0.],\n",
              "       [1., 0., 0.],\n",
              "       [1., 0., 0.],\n",
              "       [1., 0., 0.],\n",
              "       [1., 0., 0.],\n",
              "       [1., 0., 0.],\n",
              "       [1., 0., 0.],\n",
              "       [1., 0., 0.],\n",
              "       [1., 0., 0.],\n",
              "       [1., 0., 0.],\n",
              "       [1., 0., 0.],\n",
              "       [1., 0., 0.],\n",
              "       [1., 0., 0.],\n",
              "       [1., 0., 0.],\n",
              "       [1., 0., 0.],\n",
              "       [1., 0., 0.],\n",
              "       [1., 0., 0.],\n",
              "       [1., 0., 0.],\n",
              "       [1., 0., 0.],\n",
              "       [1., 0., 0.],\n",
              "       [1., 0., 0.],\n",
              "       [1., 0., 0.],\n",
              "       [1., 0., 0.],\n",
              "       [1., 0., 0.],\n",
              "       [1., 0., 0.],\n",
              "       [1., 0., 0.],\n",
              "       [0., 1., 0.],\n",
              "       [0., 1., 0.],\n",
              "       [0., 1., 0.],\n",
              "       [0., 1., 0.],\n",
              "       [0., 1., 0.],\n",
              "       [0., 1., 0.],\n",
              "       [0., 1., 0.],\n",
              "       [0., 1., 0.],\n",
              "       [0., 1., 0.],\n",
              "       [0., 1., 0.],\n",
              "       [0., 1., 0.],\n",
              "       [0., 1., 0.],\n",
              "       [0., 1., 0.],\n",
              "       [0., 1., 0.],\n",
              "       [0., 1., 0.],\n",
              "       [0., 1., 0.],\n",
              "       [0., 1., 0.],\n",
              "       [0., 1., 0.],\n",
              "       [0., 1., 0.],\n",
              "       [0., 1., 0.],\n",
              "       [0., 1., 0.],\n",
              "       [0., 1., 0.],\n",
              "       [0., 1., 0.],\n",
              "       [0., 1., 0.],\n",
              "       [0., 1., 0.],\n",
              "       [0., 1., 0.],\n",
              "       [0., 1., 0.],\n",
              "       [0., 1., 0.],\n",
              "       [0., 1., 0.],\n",
              "       [0., 1., 0.],\n",
              "       [0., 1., 0.],\n",
              "       [0., 1., 0.],\n",
              "       [0., 1., 0.],\n",
              "       [0., 1., 0.],\n",
              "       [0., 1., 0.],\n",
              "       [0., 1., 0.],\n",
              "       [0., 1., 0.],\n",
              "       [0., 1., 0.],\n",
              "       [0., 1., 0.],\n",
              "       [0., 1., 0.],\n",
              "       [0., 1., 0.],\n",
              "       [0., 1., 0.],\n",
              "       [0., 1., 0.],\n",
              "       [0., 1., 0.],\n",
              "       [0., 1., 0.],\n",
              "       [0., 1., 0.],\n",
              "       [0., 1., 0.],\n",
              "       [0., 1., 0.],\n",
              "       [0., 1., 0.],\n",
              "       [0., 1., 0.],\n",
              "       [0., 0., 1.],\n",
              "       [0., 0., 1.],\n",
              "       [0., 0., 1.],\n",
              "       [0., 0., 1.],\n",
              "       [0., 0., 1.],\n",
              "       [0., 0., 1.],\n",
              "       [0., 0., 1.],\n",
              "       [0., 0., 1.],\n",
              "       [0., 0., 1.],\n",
              "       [0., 0., 1.],\n",
              "       [0., 0., 1.],\n",
              "       [0., 0., 1.],\n",
              "       [0., 0., 1.],\n",
              "       [0., 0., 1.],\n",
              "       [0., 0., 1.],\n",
              "       [0., 0., 1.],\n",
              "       [0., 0., 1.],\n",
              "       [0., 0., 1.],\n",
              "       [0., 0., 1.],\n",
              "       [0., 0., 1.],\n",
              "       [0., 0., 1.],\n",
              "       [0., 0., 1.],\n",
              "       [0., 0., 1.],\n",
              "       [0., 0., 1.],\n",
              "       [0., 0., 1.],\n",
              "       [0., 0., 1.],\n",
              "       [0., 0., 1.],\n",
              "       [0., 0., 1.],\n",
              "       [0., 0., 1.],\n",
              "       [0., 0., 1.],\n",
              "       [0., 0., 1.],\n",
              "       [0., 0., 1.],\n",
              "       [0., 0., 1.],\n",
              "       [0., 0., 1.],\n",
              "       [0., 0., 1.],\n",
              "       [0., 0., 1.],\n",
              "       [0., 0., 1.],\n",
              "       [0., 0., 1.],\n",
              "       [0., 0., 1.],\n",
              "       [0., 0., 1.],\n",
              "       [0., 0., 1.],\n",
              "       [0., 0., 1.],\n",
              "       [0., 0., 1.],\n",
              "       [0., 0., 1.],\n",
              "       [0., 0., 1.],\n",
              "       [0., 0., 1.],\n",
              "       [0., 0., 1.],\n",
              "       [0., 0., 1.],\n",
              "       [0., 0., 1.],\n",
              "       [0., 0., 1.]], dtype=float32)"
            ]
          },
          "metadata": {
            "tags": []
          },
          "execution_count": 15
        }
      ]
    },
    {
      "metadata": {
        "id": "71goOuG5J5t5",
        "colab_type": "code",
        "colab": {
          "autoexec": {
            "startup": false,
            "wait_interval": 0
          }
        }
      },
      "cell_type": "code",
      "source": [
        "# define baseline model\n",
        "def baseline_model():\n",
        "  model = Sequential()\n",
        "  model.add(Dense(8, input_dim = 4, activation='relu'))\n",
        "  model.add(Dense(3, activation='softmax'))\n",
        "  model.compile(loss = 'categorical_crossentropy', optimizer = 'Adam', metrics = ['accuracy'])\n",
        "  return model"
      ],
      "execution_count": 0,
      "outputs": []
    },
    {
      "metadata": {
        "id": "BCZ9mqZGJ5rl",
        "colab_type": "code",
        "colab": {
          "autoexec": {
            "startup": false,
            "wait_interval": 0
          },
          "base_uri": "https://localhost:8080/",
          "height": 35
        },
        "outputId": "e03f10d5-fef9-4880-e245-ebf1eeb9055e",
        "executionInfo": {
          "status": "ok",
          "timestamp": 1532534638428,
          "user_tz": -300,
          "elapsed": 245166,
          "user": {
            "displayName": "Muhammad Shayan",
            "photoUrl": "//lh6.googleusercontent.com/-OQHqCiutbHI/AAAAAAAAAAI/AAAAAAAAAmM/a_Irg7ovtCk/s50-c-k-no/photo.jpg",
            "userId": "117658589879094178010"
          }
        }
      },
      "cell_type": "code",
      "source": [
        "estimator = KerasClassifier(build_fn=baseline_model, epochs=200, batch_size=5, verbose=0)\n",
        "kfold = KFold(n_splits=10, shuffle=True, random_state=seed)\n",
        "results = cross_val_score(estimator, X, dummy_y, cv=kfold)\n",
        "print(\"Baseline: %.2f%% (%.2f%%)\" % (results.mean()*100, results.std()*100))"
      ],
      "execution_count": 17,
      "outputs": [
        {
          "output_type": "stream",
          "text": [
            "Baseline: 96.62% (4.51%)\n"
          ],
          "name": "stdout"
        }
      ]
    },
    {
      "metadata": {
        "id": "U1RdElZAJ5l7",
        "colab_type": "code",
        "colab": {
          "autoexec": {
            "startup": false,
            "wait_interval": 0
          }
        }
      },
      "cell_type": "code",
      "source": [
        "from keras import optimizers\n",
        "def small_model():\n",
        "  model = Sequential()\n",
        "  model.add(Dense(6, activation='relu', input_shape=(4,)))\n",
        "  model.add(Dense(3, activation='softmax'))\n",
        "  model.compile(loss='categorical_crossentropy', optimizer=optimizers.Adam(lr=0.001, beta_1=0.9, beta_2=0.999, epsilon=1e-8), metrics=['accuracy'])\n",
        "  return model"
      ],
      "execution_count": 0,
      "outputs": []
    },
    {
      "metadata": {
        "id": "qg8QilNWJ5kX",
        "colab_type": "code",
        "colab": {
          "autoexec": {
            "startup": false,
            "wait_interval": 0
          },
          "base_uri": "https://localhost:8080/",
          "height": 35
        },
        "outputId": "0d4fb2d7-ff4f-4cba-bbd3-d9406199532c",
        "executionInfo": {
          "status": "ok",
          "timestamp": 1532534872530,
          "user_tz": -300,
          "elapsed": 134860,
          "user": {
            "displayName": "Muhammad Shayan",
            "photoUrl": "//lh6.googleusercontent.com/-OQHqCiutbHI/AAAAAAAAAAI/AAAAAAAAAmM/a_Irg7ovtCk/s50-c-k-no/photo.jpg",
            "userId": "117658589879094178010"
          }
        }
      },
      "cell_type": "code",
      "source": [
        "estimator = KerasClassifier(build_fn=small_model, epochs=100, batch_size=5, verbose=0)\n",
        "kfold = KFold(n_splits = 10, shuffle = True, random_state = seed)\n",
        "results = cross_val_score(estimator, X, dummy_y, cv=kfold)\n",
        "print(\"Small Accuracy: %.2f%% (%.2f%%)\"% (results.mean()*100, results.std()*100))"
      ],
      "execution_count": 20,
      "outputs": [
        {
          "output_type": "stream",
          "text": [
            "Small Accuracy: 92.62% (9.64%)\n"
          ],
          "name": "stdout"
        }
      ]
    },
    {
      "metadata": {
        "id": "3BJdq5YBJ5eb",
        "colab_type": "code",
        "colab": {
          "autoexec": {
            "startup": false,
            "wait_interval": 0
          }
        }
      },
      "cell_type": "code",
      "source": [
        "def large_model():\n",
        "  model = Sequential()\n",
        "  model.add(Dense(8, activation='relu', input_shape=(4,)))\n",
        "  model.add(Dense(8, activation='relu'))\n",
        "  model.add(Dense(4, activation='relu'))\n",
        "  model.add(Dense(3, activation='softmax'))\n",
        "  model.compile(loss='categorical_crossentropy', optimizer=optimizers.Adam(lr=0.001, beta_1=0.9, beta_2=0.999, epsilon=1e-8), metrics=['accuracy'])\n",
        "  return model"
      ],
      "execution_count": 0,
      "outputs": []
    },
    {
      "metadata": {
        "id": "VGeUgqrdJ5dG",
        "colab_type": "code",
        "colab": {
          "autoexec": {
            "startup": false,
            "wait_interval": 0
          },
          "base_uri": "https://localhost:8080/",
          "height": 35
        },
        "outputId": "56e6e449-9cf7-4ba3-843c-40de966f4e88",
        "executionInfo": {
          "status": "ok",
          "timestamp": 1532538038470,
          "user_tz": -300,
          "elapsed": 21,
          "user": {
            "displayName": "Muhammad Shayan",
            "photoUrl": "//lh6.googleusercontent.com/-OQHqCiutbHI/AAAAAAAAAAI/AAAAAAAAAmM/a_Irg7ovtCk/s50-c-k-no/photo.jpg",
            "userId": "117658589879094178010"
          }
        }
      },
      "cell_type": "code",
      "source": [
        "estimator = KerasClassifier(build_fn=large_model, epochs=200, batch_size=5, verbose=0)\n",
        "kfold = KFold(n_splits=10, shuffle=True, random_state=seed)\n",
        "results = cross_val_score(estimator, X, dummy_y, cv=kfold)\n",
        "print(\"Large Accuracy: %.2f%% (%.2f%%)\"% (results.mean()*100, results.std()*100))"
      ],
      "execution_count": 22,
      "outputs": [
        {
          "output_type": "stream",
          "text": [
            "Large Accuracy: 98.00% (4.27%)\n"
          ],
          "name": "stdout"
        }
      ]
    },
    {
      "metadata": {
        "id": "O62KrCtEJ5Xg",
        "colab_type": "code",
        "colab": {
          "autoexec": {
            "startup": false,
            "wait_interval": 0
          }
        }
      },
      "cell_type": "code",
      "source": [
        "def Overfit_model():\n",
        "  model =Sequential()\n",
        "  model.add(Dense(12, activation='relu', input_shape=(4,)))\n",
        "  model.add(Dense(10, activation='relu'))\n",
        "  model.add(Dense(8, activation='relu'))\n",
        "  model.add(Dense(3, activation='softmax'))\n",
        "  model.compile(loss='categorical_crossentropy', optimizer=optimizers.Adam(lr=0.001, beta_1=0.9, beta_2=0.999, epsilon=1e-8), metrics=['accuracy'])\n",
        "  return model"
      ],
      "execution_count": 0,
      "outputs": []
    },
    {
      "metadata": {
        "id": "acLgK0GgJ5R-",
        "colab_type": "code",
        "colab": {
          "autoexec": {
            "startup": false,
            "wait_interval": 0
          },
          "base_uri": "https://localhost:8080/",
          "height": 35
        },
        "outputId": "641c9e18-bd44-45c7-98ec-295783fda427",
        "executionInfo": {
          "status": "ok",
          "timestamp": 1532538649555,
          "user_tz": -300,
          "elapsed": 29,
          "user": {
            "displayName": "Muhammad Shayan",
            "photoUrl": "//lh6.googleusercontent.com/-OQHqCiutbHI/AAAAAAAAAAI/AAAAAAAAAmM/a_Irg7ovtCk/s50-c-k-no/photo.jpg",
            "userId": "117658589879094178010"
          }
        }
      },
      "cell_type": "code",
      "source": [
        "estimator = KerasClassifier(build_fn=Overfit_model, epochs=300, batch_size=5, verbose=0)\n",
        "kfold= KFold(n_splits=10, shuffle=True, random_state=seed)\n",
        "results = cross_val_score(estimator, X, dummy_y, cv=kfold)\n",
        "print(\"Overfit Accuracy: %.2f%% (%.2f%%)\"% (results.mean()*100, results.std()*100))"
      ],
      "execution_count": 24,
      "outputs": [
        {
          "output_type": "stream",
          "text": [
            "Overfit Accuracy: 98.00% (4.27%)\n"
          ],
          "name": "stdout"
        }
      ]
    },
    {
      "metadata": {
        "id": "CAzqWhsWJ5Pq",
        "colab_type": "code",
        "colab": {
          "autoexec": {
            "startup": false,
            "wait_interval": 0
          }
        }
      },
      "cell_type": "code",
      "source": [
        "import keras \n",
        "from keras import layers\n",
        "def api_model():\n",
        "        \n",
        "        inputs = keras.Input(shape=(4,))\n",
        "        x = layers.Dense(8, activation='relu')(inputs)\n",
        "        outputs = layers.Dense(3, activation='softmax')(x)\n",
        "        model = keras.Model(inputs, outputs)\n",
        "        #compile model\n",
        "        model.compile(loss='categorical_crossentropy', optimizer=optimizers.Adam(lr=0.001, beta_1=0.9, beta_2=0.999, epsilon=1e-8), metrics=['accuracy'])\n",
        "        return model\n",
        "   "
      ],
      "execution_count": 0,
      "outputs": []
    },
    {
      "metadata": {
        "id": "yk1XQwRrJ5J7",
        "colab_type": "code",
        "colab": {
          "autoexec": {
            "startup": false,
            "wait_interval": 0
          },
          "base_uri": "https://localhost:8080/",
          "height": 35
        },
        "outputId": "923a84da-075d-4832-8b24-e7cc5be6c69a",
        "executionInfo": {
          "status": "ok",
          "timestamp": 1532538760696,
          "user_tz": -300,
          "elapsed": 99341,
          "user": {
            "displayName": "Muhammad Shayan",
            "photoUrl": "//lh6.googleusercontent.com/-OQHqCiutbHI/AAAAAAAAAAI/AAAAAAAAAmM/a_Irg7ovtCk/s50-c-k-no/photo.jpg",
            "userId": "117658589879094178010"
          }
        }
      },
      "cell_type": "code",
      "source": [
        "estimator = KerasClassifier(build_fn=api_model, epochs=200, batch_size=5, verbose=0)\n",
        "kfold = KFold(n_splits=4, shuffle=True, random_state=seed)\n",
        "results = cross_val_score(estimator, X, dummy_y, cv=kfold)\n",
        "print(\"Accuracy: %.2f%% (%.2f%%)\" % (results.mean()*100, results.std()*100))"
      ],
      "execution_count": 26,
      "outputs": [
        {
          "output_type": "stream",
          "text": [
            "Accuracy: 96.66% (3.49%)\n"
          ],
          "name": "stdout"
        }
      ]
    },
    {
      "metadata": {
        "id": "9i5WPwrLLi19",
        "colab_type": "code",
        "colab": {
          "autoexec": {
            "startup": false,
            "wait_interval": 0
          },
          "base_uri": "https://localhost:8080/",
          "height": 35
        },
        "outputId": "e5c57594-7de7-40e4-97d3-43dcac4df211",
        "executionInfo": {
          "status": "ok",
          "timestamp": 1532538994773,
          "user_tz": -300,
          "elapsed": 18244,
          "user": {
            "displayName": "Muhammad Shayan",
            "photoUrl": "//lh6.googleusercontent.com/-OQHqCiutbHI/AAAAAAAAAAI/AAAAAAAAAmM/a_Irg7ovtCk/s50-c-k-no/photo.jpg",
            "userId": "117658589879094178010"
          }
        }
      },
      "cell_type": "code",
      "source": [
        "import keras \n",
        "from keras import layers\n",
        "import tensorflow as tf\n",
        "class MyModel(tf.keras.Model):\n",
        "      def __init__(self):\n",
        "          super(MyModel, self).__init__()\n",
        "          self.dense1 = Dense(8, activation = 'relu')\n",
        "          self.dense2 = Dense(6, activation='relu')\n",
        "          self.dense3 = Dense(3, activation='softmax')\n",
        "          \n",
        "          \n",
        "          \n",
        "      def call(self, inputs):\n",
        "        \n",
        "        \n",
        "        a = self.dense1(inputs)\n",
        "        a = self.dense2(a)\n",
        "        return self.dense3(a)\n",
        "    \n",
        "    \n",
        "model = MyModel()\n",
        "model.compile(loss='categorical_crossentropy', optimizer='adam', metrics=['accuracy'])\n",
        "model.fit(X, dummy_y, epochs=200, batch_size=4, verbose=False)"
      ],
      "execution_count": 27,
      "outputs": [
        {
          "output_type": "execute_result",
          "data": {
            "text/plain": [
              "<tensorflow.python.keras.callbacks.History at 0x7fcb627554e0>"
            ]
          },
          "metadata": {
            "tags": []
          },
          "execution_count": 27
        }
      ]
    },
    {
      "metadata": {
        "id": "3WlZcv1-Li7a",
        "colab_type": "code",
        "colab": {
          "autoexec": {
            "startup": false,
            "wait_interval": 0
          }
        }
      },
      "cell_type": "code",
      "source": [
        "complete_data=data.copy()\n",
        "numpy.random.shuffle(complete_data)\n",
        "data=complete_data[:,0:4].astype('float32')\n",
        "labels=complete_data[:,4]\n",
        "le=LabelEncoder()\n",
        "le.fit(labels)\n",
        "encodeLabels = le.transform(labels).astype('float32')\n",
        "hotencodeLabels = np_utils.to_categorical(encodeLabels)\n",
        "train_dataset = data[:100]\n",
        "test_dataset = data[100:]\n",
        "train_label = hotencodeLabels[:100]\n",
        "test_label = hotencodeLabels[100:]"
      ],
      "execution_count": 0,
      "outputs": []
    },
    {
      "metadata": {
        "id": "EQpHLOZdLi0L",
        "colab_type": "code",
        "colab": {
          "autoexec": {
            "startup": false,
            "wait_interval": 0
          },
          "base_uri": "https://localhost:8080/",
          "height": 7328
        },
        "outputId": "3b7bc061-dc2d-41e3-95fc-fdf34c6643a3",
        "executionInfo": {
          "status": "ok",
          "timestamp": 1532539315748,
          "user_tz": -300,
          "elapsed": 33955,
          "user": {
            "displayName": "Muhammad Shayan",
            "photoUrl": "//lh6.googleusercontent.com/-OQHqCiutbHI/AAAAAAAAAAI/AAAAAAAAAmM/a_Irg7ovtCk/s50-c-k-no/photo.jpg",
            "userId": "117658589879094178010"
          }
        }
      },
      "cell_type": "code",
      "source": [
        "model = Sequential()\n",
        "model.add(Dense(4, activation='relu', input_shape=(4,)))\n",
        "model.add(Dense(3, activation='softmax'))\n",
        "model.compile(loss='categorical_crossentropy', optimizer=optimizers.Adam(lr=0.001, beta_1=0.9, beta_2=0.999, epsilon=1e-8), metrics=['accuracy'])\n",
        "model.fit(train_dataset, train_label, epochs=200, batch_size=5, verbose=1)"
      ],
      "execution_count": 30,
      "outputs": [
        {
          "output_type": "stream",
          "text": [
            "Epoch 1/200\n",
            "100/100 [==============================] - 2s 18ms/step - loss: 1.8272 - acc: 0.3400\n",
            "Epoch 2/200\n",
            "100/100 [==============================] - 0s 994us/step - loss: 1.6324 - acc: 0.3400\n",
            "Epoch 3/200\n",
            "100/100 [==============================] - 0s 943us/step - loss: 1.4822 - acc: 0.3400\n",
            "Epoch 4/200\n",
            "100/100 [==============================] - 0s 971us/step - loss: 1.3770 - acc: 0.3400\n",
            "Epoch 5/200\n",
            "100/100 [==============================] - 0s 1ms/step - loss: 1.3039 - acc: 0.3400\n",
            "Epoch 6/200\n",
            "100/100 [==============================] - 0s 1ms/step - loss: 1.2445 - acc: 0.3500\n",
            "Epoch 7/200\n",
            "100/100 [==============================] - 0s 1ms/step - loss: 1.1972 - acc: 0.3500\n",
            "Epoch 8/200\n",
            "100/100 [==============================] - 0s 1ms/step - loss: 1.1547 - acc: 0.3600\n",
            "Epoch 9/200\n",
            "100/100 [==============================] - 0s 1ms/step - loss: 1.1167 - acc: 0.3500\n",
            "Epoch 10/200\n",
            "100/100 [==============================] - 0s 1ms/step - loss: 1.0815 - acc: 0.3500\n",
            "Epoch 11/200\n",
            "100/100 [==============================] - 0s 1ms/step - loss: 1.0533 - acc: 0.3600\n",
            "Epoch 12/200\n",
            "100/100 [==============================] - 0s 1ms/step - loss: 1.0283 - acc: 0.3600\n",
            "Epoch 13/200\n",
            "100/100 [==============================] - 0s 1ms/step - loss: 1.0063 - acc: 0.3600\n",
            "Epoch 14/200\n",
            "100/100 [==============================] - 0s 1ms/step - loss: 0.9853 - acc: 0.3900\n",
            "Epoch 15/200\n",
            "100/100 [==============================] - 0s 1ms/step - loss: 0.9676 - acc: 0.4100\n",
            "Epoch 16/200\n",
            "100/100 [==============================] - 0s 1ms/step - loss: 0.9524 - acc: 0.4100\n",
            "Epoch 17/200\n",
            "100/100 [==============================] - 0s 1ms/step - loss: 0.9384 - acc: 0.4000\n",
            "Epoch 18/200\n",
            "100/100 [==============================] - 0s 1ms/step - loss: 0.9263 - acc: 0.4600\n",
            "Epoch 19/200\n",
            "100/100 [==============================] - 0s 1ms/step - loss: 0.9158 - acc: 0.5400\n",
            "Epoch 20/200\n",
            "100/100 [==============================] - 0s 1ms/step - loss: 0.9052 - acc: 0.5400\n",
            "Epoch 21/200\n",
            "100/100 [==============================] - 0s 1ms/step - loss: 0.8957 - acc: 0.5600\n",
            "Epoch 22/200\n",
            "100/100 [==============================] - 0s 1ms/step - loss: 0.8872 - acc: 0.5600\n",
            "Epoch 23/200\n",
            "100/100 [==============================] - 0s 1ms/step - loss: 0.8793 - acc: 0.5300\n",
            "Epoch 24/200\n",
            "100/100 [==============================] - 0s 1ms/step - loss: 0.8719 - acc: 0.5100\n",
            "Epoch 25/200\n",
            "100/100 [==============================] - 0s 1ms/step - loss: 0.8644 - acc: 0.5000\n"
          ],
          "name": "stdout"
        },
        {
          "output_type": "stream",
          "text": [
            "Epoch 26/200\n",
            "100/100 [==============================] - 0s 1ms/step - loss: 0.8573 - acc: 0.5100\n",
            "Epoch 27/200\n",
            "100/100 [==============================] - 0s 1ms/step - loss: 0.8505 - acc: 0.4900\n",
            "Epoch 28/200\n",
            "100/100 [==============================] - 0s 1ms/step - loss: 0.8450 - acc: 0.6800\n",
            "Epoch 29/200\n",
            "100/100 [==============================] - 0s 1ms/step - loss: 0.8373 - acc: 0.7100\n",
            "Epoch 30/200\n",
            "100/100 [==============================] - 0s 1ms/step - loss: 0.8311 - acc: 0.7100\n",
            "Epoch 31/200\n",
            "100/100 [==============================] - 0s 1ms/step - loss: 0.8247 - acc: 0.7100\n",
            "Epoch 32/200\n",
            "100/100 [==============================] - 0s 1ms/step - loss: 0.8187 - acc: 0.7100\n",
            "Epoch 33/200\n",
            "100/100 [==============================] - 0s 1ms/step - loss: 0.8125 - acc: 0.7100\n",
            "Epoch 34/200\n",
            "100/100 [==============================] - 0s 1ms/step - loss: 0.8059 - acc: 0.7100\n",
            "Epoch 35/200\n",
            "100/100 [==============================] - 0s 1ms/step - loss: 0.8000 - acc: 0.7100\n",
            "Epoch 36/200\n",
            "100/100 [==============================] - 0s 1ms/step - loss: 0.7944 - acc: 0.7100\n",
            "Epoch 37/200\n",
            "100/100 [==============================] - 0s 1ms/step - loss: 0.7873 - acc: 0.7100\n",
            "Epoch 38/200\n",
            "100/100 [==============================] - 0s 1ms/step - loss: 0.7810 - acc: 0.7100\n",
            "Epoch 39/200\n",
            "100/100 [==============================] - 0s 1ms/step - loss: 0.7749 - acc: 0.7100\n",
            "Epoch 40/200\n",
            "100/100 [==============================] - 0s 1ms/step - loss: 0.7689 - acc: 0.7100\n",
            "Epoch 41/200\n",
            "100/100 [==============================] - 0s 1ms/step - loss: 0.7632 - acc: 0.7100\n",
            "Epoch 42/200\n",
            "100/100 [==============================] - 0s 1ms/step - loss: 0.7569 - acc: 0.7100\n",
            "Epoch 43/200\n",
            "100/100 [==============================] - 0s 1ms/step - loss: 0.7507 - acc: 0.7100\n",
            "Epoch 44/200\n",
            "100/100 [==============================] - 0s 1ms/step - loss: 0.7450 - acc: 0.7300\n",
            "Epoch 45/200\n",
            "100/100 [==============================] - 0s 1ms/step - loss: 0.7397 - acc: 0.7100\n",
            "Epoch 46/200\n",
            "100/100 [==============================] - 0s 1ms/step - loss: 0.7330 - acc: 0.7300\n",
            "Epoch 47/200\n",
            "100/100 [==============================] - 0s 1ms/step - loss: 0.7274 - acc: 0.7300\n",
            "Epoch 48/200\n",
            "100/100 [==============================] - 0s 1ms/step - loss: 0.7214 - acc: 0.7200\n",
            "Epoch 49/200\n",
            "100/100 [==============================] - 0s 1ms/step - loss: 0.7159 - acc: 0.7100\n",
            "Epoch 50/200\n",
            "100/100 [==============================] - 0s 1ms/step - loss: 0.7098 - acc: 0.7300\n",
            "Epoch 51/200\n",
            "  5/100 [>.............................] - ETA: 0s - loss: 0.6019 - acc: 0.8000"
          ],
          "name": "stdout"
        },
        {
          "output_type": "stream",
          "text": [
            "100/100 [==============================] - 0s 1ms/step - loss: 0.7041 - acc: 0.7300\n",
            "Epoch 52/200\n",
            "100/100 [==============================] - 0s 1ms/step - loss: 0.6998 - acc: 0.7400\n",
            "Epoch 53/200\n",
            "100/100 [==============================] - 0s 1ms/step - loss: 0.6931 - acc: 0.7400\n",
            "Epoch 54/200\n",
            "100/100 [==============================] - 0s 1ms/step - loss: 0.6876 - acc: 0.7300\n",
            "Epoch 55/200\n",
            "100/100 [==============================] - 0s 1ms/step - loss: 0.6824 - acc: 0.7400\n",
            "Epoch 56/200\n",
            "100/100 [==============================] - 0s 1ms/step - loss: 0.6769 - acc: 0.7400\n",
            "Epoch 57/200\n",
            "100/100 [==============================] - 0s 1ms/step - loss: 0.6715 - acc: 0.7400\n",
            "Epoch 58/200\n",
            "100/100 [==============================] - 0s 1ms/step - loss: 0.6663 - acc: 0.7400\n",
            "Epoch 59/200\n",
            "100/100 [==============================] - 0s 1ms/step - loss: 0.6612 - acc: 0.7400\n",
            "Epoch 60/200\n",
            "100/100 [==============================] - 0s 1ms/step - loss: 0.6557 - acc: 0.7400\n",
            "Epoch 61/200\n",
            "100/100 [==============================] - 0s 1ms/step - loss: 0.6511 - acc: 0.7400\n",
            "Epoch 62/200\n",
            "100/100 [==============================] - 0s 1ms/step - loss: 0.6459 - acc: 0.7400\n",
            "Epoch 63/200\n",
            "100/100 [==============================] - 0s 1ms/step - loss: 0.6410 - acc: 0.7400\n",
            "Epoch 64/200\n",
            "100/100 [==============================] - 0s 1ms/step - loss: 0.6361 - acc: 0.7400\n",
            "Epoch 65/200\n",
            "100/100 [==============================] - 0s 1ms/step - loss: 0.6320 - acc: 0.7500\n",
            "Epoch 66/200\n",
            "100/100 [==============================] - 0s 1ms/step - loss: 0.6266 - acc: 0.7400\n",
            "Epoch 67/200\n",
            "100/100 [==============================] - 0s 1ms/step - loss: 0.6224 - acc: 0.7400\n",
            "Epoch 68/200\n",
            "100/100 [==============================] - 0s 1ms/step - loss: 0.6185 - acc: 0.7500\n",
            "Epoch 69/200\n",
            "100/100 [==============================] - 0s 1ms/step - loss: 0.6136 - acc: 0.7500\n",
            "Epoch 70/200\n",
            "100/100 [==============================] - 0s 1ms/step - loss: 0.6088 - acc: 0.7500\n",
            "Epoch 71/200\n",
            "100/100 [==============================] - 0s 1ms/step - loss: 0.6057 - acc: 0.7400\n",
            "Epoch 72/200\n",
            "100/100 [==============================] - 0s 1ms/step - loss: 0.6006 - acc: 0.7500\n",
            "Epoch 73/200\n",
            "100/100 [==============================] - 0s 1ms/step - loss: 0.5962 - acc: 0.7500\n",
            "Epoch 74/200\n",
            "100/100 [==============================] - 0s 1ms/step - loss: 0.5925 - acc: 0.7500\n",
            "Epoch 75/200\n",
            "100/100 [==============================] - 0s 1ms/step - loss: 0.5884 - acc: 0.7500\n",
            "Epoch 76/200\n",
            " 55/100 [===============>..............] - ETA: 0s - loss: 0.5893 - acc: 0.7636"
          ],
          "name": "stdout"
        },
        {
          "output_type": "stream",
          "text": [
            "100/100 [==============================] - 0s 1ms/step - loss: 0.5843 - acc: 0.7500\n",
            "Epoch 77/200\n",
            "100/100 [==============================] - 0s 1ms/step - loss: 0.5808 - acc: 0.7500\n",
            "Epoch 78/200\n",
            "100/100 [==============================] - 0s 1ms/step - loss: 0.5768 - acc: 0.7500\n",
            "Epoch 79/200\n",
            "100/100 [==============================] - 0s 1ms/step - loss: 0.5733 - acc: 0.7500\n",
            "Epoch 80/200\n",
            "100/100 [==============================] - 0s 1ms/step - loss: 0.5697 - acc: 0.7500\n",
            "Epoch 81/200\n",
            "100/100 [==============================] - 0s 1ms/step - loss: 0.5661 - acc: 0.7500\n",
            "Epoch 82/200\n",
            "100/100 [==============================] - 0s 1ms/step - loss: 0.5624 - acc: 0.7500\n",
            "Epoch 83/200\n",
            "100/100 [==============================] - 0s 1ms/step - loss: 0.5591 - acc: 0.7600\n",
            "Epoch 84/200\n",
            "100/100 [==============================] - 0s 1ms/step - loss: 0.5557 - acc: 0.7800\n",
            "Epoch 85/200\n",
            "100/100 [==============================] - 0s 1ms/step - loss: 0.5536 - acc: 0.7500\n",
            "Epoch 86/200\n",
            "100/100 [==============================] - 0s 1ms/step - loss: 0.5495 - acc: 0.7600\n",
            "Epoch 87/200\n",
            "100/100 [==============================] - 0s 1ms/step - loss: 0.5459 - acc: 0.7900\n",
            "Epoch 88/200\n",
            "100/100 [==============================] - 0s 1ms/step - loss: 0.5430 - acc: 0.8000\n",
            "Epoch 89/200\n",
            "100/100 [==============================] - 0s 1ms/step - loss: 0.5395 - acc: 0.8000\n",
            "Epoch 90/200\n",
            "100/100 [==============================] - 0s 1ms/step - loss: 0.5370 - acc: 0.7800\n",
            "Epoch 91/200\n",
            "100/100 [==============================] - 0s 1ms/step - loss: 0.5337 - acc: 0.7900\n",
            "Epoch 92/200\n",
            "100/100 [==============================] - 0s 1ms/step - loss: 0.5307 - acc: 0.8000\n",
            "Epoch 93/200\n",
            "100/100 [==============================] - 0s 1ms/step - loss: 0.5278 - acc: 0.8000\n",
            "Epoch 94/200\n",
            "100/100 [==============================] - 0s 1ms/step - loss: 0.5252 - acc: 0.8000\n",
            "Epoch 95/200\n",
            "100/100 [==============================] - 0s 1ms/step - loss: 0.5220 - acc: 0.8000\n",
            "Epoch 96/200\n",
            "100/100 [==============================] - 0s 1ms/step - loss: 0.5193 - acc: 0.8000\n",
            "Epoch 97/200\n",
            "100/100 [==============================] - 0s 1ms/step - loss: 0.5165 - acc: 0.8000\n",
            "Epoch 98/200\n",
            "100/100 [==============================] - 0s 1ms/step - loss: 0.5140 - acc: 0.8000\n",
            "Epoch 99/200\n",
            "100/100 [==============================] - 0s 1ms/step - loss: 0.5115 - acc: 0.8000\n",
            "Epoch 100/200\n",
            "100/100 [==============================] - 0s 1ms/step - loss: 0.5090 - acc: 0.8100\n",
            "Epoch 101/200\n",
            " 55/100 [===============>..............] - ETA: 0s - loss: 0.5091 - acc: 0.8182"
          ],
          "name": "stdout"
        },
        {
          "output_type": "stream",
          "text": [
            "100/100 [==============================] - 0s 1ms/step - loss: 0.5060 - acc: 0.8100\n",
            "Epoch 102/200\n",
            "100/100 [==============================] - 0s 1ms/step - loss: 0.5036 - acc: 0.8100\n",
            "Epoch 103/200\n",
            "100/100 [==============================] - 0s 1ms/step - loss: 0.5012 - acc: 0.8100\n",
            "Epoch 104/200\n",
            "100/100 [==============================] - 0s 1ms/step - loss: 0.4986 - acc: 0.8100\n",
            "Epoch 105/200\n",
            "100/100 [==============================] - 0s 1ms/step - loss: 0.4973 - acc: 0.8100\n",
            "Epoch 106/200\n",
            "100/100 [==============================] - 0s 1ms/step - loss: 0.4937 - acc: 0.8100\n",
            "Epoch 107/200\n",
            "100/100 [==============================] - 0s 1ms/step - loss: 0.4920 - acc: 0.8000\n",
            "Epoch 108/200\n",
            "100/100 [==============================] - 0s 1ms/step - loss: 0.4894 - acc: 0.8000\n",
            "Epoch 109/200\n",
            "100/100 [==============================] - 0s 1ms/step - loss: 0.4870 - acc: 0.8100\n",
            "Epoch 110/200\n",
            "100/100 [==============================] - 0s 1ms/step - loss: 0.4845 - acc: 0.8100\n",
            "Epoch 111/200\n",
            "100/100 [==============================] - 0s 1ms/step - loss: 0.4826 - acc: 0.8100\n",
            "Epoch 112/200\n",
            "100/100 [==============================] - 0s 1ms/step - loss: 0.4801 - acc: 0.8100\n",
            "Epoch 113/200\n",
            "100/100 [==============================] - 0s 1ms/step - loss: 0.4781 - acc: 0.8100\n",
            "Epoch 114/200\n",
            "100/100 [==============================] - 0s 1ms/step - loss: 0.4758 - acc: 0.8100\n",
            "Epoch 115/200\n",
            "100/100 [==============================] - 0s 1ms/step - loss: 0.4736 - acc: 0.8100\n",
            "Epoch 116/200\n",
            "100/100 [==============================] - 0s 1ms/step - loss: 0.4733 - acc: 0.8100\n",
            "Epoch 117/200\n",
            "100/100 [==============================] - 0s 1ms/step - loss: 0.4698 - acc: 0.8100\n",
            "Epoch 118/200\n",
            "100/100 [==============================] - 0s 1ms/step - loss: 0.4678 - acc: 0.8100\n",
            "Epoch 119/200\n",
            "100/100 [==============================] - 0s 1ms/step - loss: 0.4660 - acc: 0.8200\n",
            "Epoch 120/200\n",
            "100/100 [==============================] - 0s 1ms/step - loss: 0.4634 - acc: 0.8300\n",
            "Epoch 121/200\n",
            "100/100 [==============================] - 0s 1ms/step - loss: 0.4620 - acc: 0.8100\n",
            "Epoch 122/200\n",
            "100/100 [==============================] - 0s 1ms/step - loss: 0.4596 - acc: 0.8300\n",
            "Epoch 123/200\n",
            "100/100 [==============================] - 0s 1ms/step - loss: 0.4570 - acc: 0.8400\n",
            "Epoch 124/200\n",
            "100/100 [==============================] - 0s 1ms/step - loss: 0.4549 - acc: 0.8300\n",
            "Epoch 125/200\n",
            "100/100 [==============================] - 0s 1ms/step - loss: 0.4526 - acc: 0.8300\n",
            "Epoch 126/200\n",
            " 55/100 [===============>..............] - ETA: 0s - loss: 0.4217 - acc: 0.8727"
          ],
          "name": "stdout"
        },
        {
          "output_type": "stream",
          "text": [
            "100/100 [==============================] - 0s 1ms/step - loss: 0.4507 - acc: 0.8300\n",
            "Epoch 127/200\n",
            "100/100 [==============================] - 0s 1ms/step - loss: 0.4479 - acc: 0.8100\n",
            "Epoch 128/200\n",
            "100/100 [==============================] - 0s 1ms/step - loss: 0.4459 - acc: 0.8600\n",
            "Epoch 129/200\n",
            "100/100 [==============================] - 0s 1ms/step - loss: 0.4428 - acc: 0.8800\n",
            "Epoch 130/200\n",
            "100/100 [==============================] - 0s 1ms/step - loss: 0.4403 - acc: 0.8500\n",
            "Epoch 131/200\n",
            "100/100 [==============================] - 0s 1ms/step - loss: 0.4380 - acc: 0.8700\n",
            "Epoch 132/200\n",
            "100/100 [==============================] - 0s 1ms/step - loss: 0.4341 - acc: 0.8500\n",
            "Epoch 133/200\n",
            "100/100 [==============================] - 0s 1ms/step - loss: 0.4305 - acc: 0.8300\n",
            "Epoch 134/200\n",
            "100/100 [==============================] - 0s 1ms/step - loss: 0.4280 - acc: 0.8700\n",
            "Epoch 135/200\n",
            "100/100 [==============================] - 0s 1ms/step - loss: 0.4230 - acc: 0.8800\n",
            "Epoch 136/200\n",
            "100/100 [==============================] - 0s 1ms/step - loss: 0.4195 - acc: 0.8800\n",
            "Epoch 137/200\n",
            "100/100 [==============================] - 0s 1ms/step - loss: 0.4157 - acc: 0.8800\n",
            "Epoch 138/200\n",
            "100/100 [==============================] - 0s 1ms/step - loss: 0.4121 - acc: 0.8800\n",
            "Epoch 139/200\n",
            "100/100 [==============================] - 0s 1ms/step - loss: 0.4073 - acc: 0.8800\n",
            "Epoch 140/200\n",
            "100/100 [==============================] - 0s 1ms/step - loss: 0.4038 - acc: 0.8800\n",
            "Epoch 141/200\n",
            "100/100 [==============================] - 0s 1ms/step - loss: 0.4004 - acc: 0.8800\n",
            "Epoch 142/200\n",
            "100/100 [==============================] - 0s 1ms/step - loss: 0.3964 - acc: 0.8800\n",
            "Epoch 143/200\n",
            "100/100 [==============================] - 0s 1ms/step - loss: 0.3928 - acc: 0.8900\n",
            "Epoch 144/200\n",
            "100/100 [==============================] - 0s 1ms/step - loss: 0.3904 - acc: 0.8700\n",
            "Epoch 145/200\n",
            "100/100 [==============================] - 0s 1ms/step - loss: 0.3852 - acc: 0.8800\n",
            "Epoch 146/200\n",
            "100/100 [==============================] - 0s 1ms/step - loss: 0.3817 - acc: 0.8900\n",
            "Epoch 147/200\n",
            "100/100 [==============================] - 0s 1ms/step - loss: 0.3780 - acc: 0.8900\n",
            "Epoch 148/200\n",
            "100/100 [==============================] - 0s 1ms/step - loss: 0.3750 - acc: 0.8800\n",
            "Epoch 149/200\n",
            "100/100 [==============================] - 0s 1ms/step - loss: 0.3721 - acc: 0.8900\n",
            "Epoch 150/200\n",
            " 55/100 [===============>..............] - ETA: 0s - loss: 0.3894 - acc: 0.8909"
          ],
          "name": "stdout"
        },
        {
          "output_type": "stream",
          "text": [
            "100/100 [==============================] - 0s 1ms/step - loss: 0.3680 - acc: 0.8900\n",
            "Epoch 151/200\n",
            "100/100 [==============================] - 0s 1ms/step - loss: 0.3652 - acc: 0.8900\n",
            "Epoch 152/200\n",
            "100/100 [==============================] - 0s 1ms/step - loss: 0.3622 - acc: 0.8900\n",
            "Epoch 153/200\n",
            "100/100 [==============================] - 0s 1ms/step - loss: 0.3599 - acc: 0.8900\n",
            "Epoch 154/200\n",
            "100/100 [==============================] - 0s 1ms/step - loss: 0.3580 - acc: 0.8900\n",
            "Epoch 155/200\n",
            "100/100 [==============================] - 0s 1ms/step - loss: 0.3545 - acc: 0.8900\n",
            "Epoch 156/200\n",
            "100/100 [==============================] - 0s 1ms/step - loss: 0.3524 - acc: 0.8900\n",
            "Epoch 157/200\n",
            "100/100 [==============================] - 0s 1ms/step - loss: 0.3498 - acc: 0.9000\n",
            "Epoch 158/200\n",
            "100/100 [==============================] - 0s 1ms/step - loss: 0.3477 - acc: 0.9000\n",
            "Epoch 159/200\n",
            "100/100 [==============================] - 0s 1ms/step - loss: 0.3456 - acc: 0.8900\n",
            "Epoch 160/200\n",
            "100/100 [==============================] - 0s 1ms/step - loss: 0.3436 - acc: 0.8900\n",
            "Epoch 161/200\n",
            "100/100 [==============================] - 0s 1ms/step - loss: 0.3404 - acc: 0.9000\n",
            "Epoch 162/200\n",
            "100/100 [==============================] - 0s 1ms/step - loss: 0.3385 - acc: 0.9000\n",
            "Epoch 163/200\n",
            "100/100 [==============================] - 0s 1ms/step - loss: 0.3364 - acc: 0.9000\n",
            "Epoch 164/200\n",
            "100/100 [==============================] - 0s 1ms/step - loss: 0.3348 - acc: 0.9000\n",
            "Epoch 165/200\n",
            "100/100 [==============================] - 0s 1ms/step - loss: 0.3326 - acc: 0.9000\n",
            "Epoch 166/200\n",
            "100/100 [==============================] - 0s 1ms/step - loss: 0.3309 - acc: 0.9000\n",
            "Epoch 167/200\n",
            "100/100 [==============================] - 0s 1ms/step - loss: 0.3294 - acc: 0.9000\n",
            "Epoch 168/200\n",
            "100/100 [==============================] - 0s 1ms/step - loss: 0.3273 - acc: 0.9000\n",
            "Epoch 169/200\n",
            "100/100 [==============================] - 0s 1ms/step - loss: 0.3251 - acc: 0.9100\n",
            "Epoch 170/200\n",
            "100/100 [==============================] - 0s 1ms/step - loss: 0.3234 - acc: 0.9000\n",
            "Epoch 171/200\n",
            "100/100 [==============================] - 0s 1ms/step - loss: 0.3217 - acc: 0.9000\n",
            "Epoch 172/200\n",
            "100/100 [==============================] - 0s 1ms/step - loss: 0.3210 - acc: 0.9000\n",
            "Epoch 173/200\n",
            "100/100 [==============================] - 0s 1ms/step - loss: 0.3178 - acc: 0.9000\n",
            "Epoch 174/200\n",
            "100/100 [==============================] - 0s 1ms/step - loss: 0.3166 - acc: 0.9100\n",
            "Epoch 175/200\n",
            "  5/100 [>.............................] - ETA: 0s - loss: 0.4131 - acc: 0.8000"
          ],
          "name": "stdout"
        },
        {
          "output_type": "stream",
          "text": [
            "100/100 [==============================] - 0s 1ms/step - loss: 0.3147 - acc: 0.9100\n",
            "Epoch 176/200\n",
            "100/100 [==============================] - 0s 1ms/step - loss: 0.3136 - acc: 0.9300\n",
            "Epoch 177/200\n",
            "100/100 [==============================] - 0s 1ms/step - loss: 0.3117 - acc: 0.9300\n",
            "Epoch 178/200\n",
            "100/100 [==============================] - 0s 1ms/step - loss: 0.3100 - acc: 0.9200\n",
            "Epoch 179/200\n",
            "100/100 [==============================] - 0s 1ms/step - loss: 0.3084 - acc: 0.9200\n",
            "Epoch 180/200\n",
            "100/100 [==============================] - 0s 1ms/step - loss: 0.3069 - acc: 0.9100\n",
            "Epoch 181/200\n",
            "100/100 [==============================] - 0s 1ms/step - loss: 0.3052 - acc: 0.9400\n",
            "Epoch 182/200\n",
            "100/100 [==============================] - 0s 1ms/step - loss: 0.3041 - acc: 0.9100\n",
            "Epoch 183/200\n",
            "100/100 [==============================] - 0s 1ms/step - loss: 0.3024 - acc: 0.9500\n",
            "Epoch 184/200\n",
            "100/100 [==============================] - 0s 1ms/step - loss: 0.3014 - acc: 0.9600\n",
            "Epoch 185/200\n",
            "100/100 [==============================] - 0s 1ms/step - loss: 0.2997 - acc: 0.9500\n",
            "Epoch 186/200\n",
            "100/100 [==============================] - 0s 1ms/step - loss: 0.2980 - acc: 0.9400\n",
            "Epoch 187/200\n",
            "100/100 [==============================] - 0s 1ms/step - loss: 0.2970 - acc: 0.9200\n",
            "Epoch 188/200\n",
            "100/100 [==============================] - 0s 1ms/step - loss: 0.2951 - acc: 0.9700\n",
            "Epoch 189/200\n",
            "100/100 [==============================] - 0s 1ms/step - loss: 0.2943 - acc: 0.9800\n",
            "Epoch 190/200\n",
            "100/100 [==============================] - 0s 1ms/step - loss: 0.2946 - acc: 0.9400\n",
            "Epoch 191/200\n",
            "100/100 [==============================] - 0s 1ms/step - loss: 0.2914 - acc: 0.9500\n",
            "Epoch 192/200\n",
            "100/100 [==============================] - 0s 1ms/step - loss: 0.2900 - acc: 0.9700\n",
            "Epoch 193/200\n",
            "100/100 [==============================] - 0s 1ms/step - loss: 0.2881 - acc: 0.9600\n",
            "Epoch 194/200\n",
            "100/100 [==============================] - 0s 1ms/step - loss: 0.2877 - acc: 0.9800\n",
            "Epoch 195/200\n",
            "100/100 [==============================] - 0s 1ms/step - loss: 0.2854 - acc: 0.9800\n",
            "Epoch 196/200\n",
            "100/100 [==============================] - 0s 1ms/step - loss: 0.2840 - acc: 0.9700\n",
            "Epoch 197/200\n",
            "100/100 [==============================] - 0s 1ms/step - loss: 0.2831 - acc: 0.9600\n",
            "Epoch 198/200\n",
            "100/100 [==============================] - 0s 1ms/step - loss: 0.2816 - acc: 0.9800\n",
            "Epoch 199/200\n",
            "100/100 [==============================] - 0s 1ms/step - loss: 0.2806 - acc: 0.9600\n",
            "Epoch 200/200\n",
            " 55/100 [===============>..............] - ETA: 0s - loss: 0.2988 - acc: 0.9818"
          ],
          "name": "stdout"
        },
        {
          "output_type": "stream",
          "text": [
            "\b\b\b\b\b\b\b\b\b\b\b\b\b\b\b\b\b\b\b\b\b\b\b\b\b\b\b\b\b\b\b\b\b\b\b\b\b\b\b\b\b\b\b\b\b\b\b\b\b\b\b\b\b\b\b\b\b\b\b\b\b\b\b\b\b\b\b\b\b\b\b\b\b\b\b\b\b\b\b\r100/100 [==============================] - 0s 1ms/step - loss: 0.2792 - acc: 0.9800\n"
          ],
          "name": "stdout"
        },
        {
          "output_type": "execute_result",
          "data": {
            "text/plain": [
              "<keras.callbacks.History at 0x7fcb5e305cf8>"
            ]
          },
          "metadata": {
            "tags": []
          },
          "execution_count": 30
        }
      ]
    },
    {
      "metadata": {
        "id": "zs1JRNK9J5FW",
        "colab_type": "code",
        "colab": {
          "autoexec": {
            "startup": false,
            "wait_interval": 0
          }
        }
      },
      "cell_type": "code",
      "source": [
        ""
      ],
      "execution_count": 0,
      "outputs": []
    }
  ]
}